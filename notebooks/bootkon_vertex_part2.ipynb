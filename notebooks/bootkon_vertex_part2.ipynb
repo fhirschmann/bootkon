{
 "cells": [
  {
   "cell_type": "code",
   "execution_count": 4,
   "id": "1e9a576e-62f2-4b36-9897-9e78f656817e",
   "metadata": {
    "tags": []
   },
   "outputs": [],
   "source": [
    "project = !gcloud config get-value project\n",
    "PROJECT_ID = project[0]\n",
    "REGION = \"us-central1\""
   ]
  },
  {
   "cell_type": "code",
   "execution_count": 6,
   "id": "9acd8628-1e89-4978-890f-01718e5add79",
   "metadata": {},
   "outputs": [],
   "source": [
    "from typing import NamedTuple\n",
    "\n",
    "from google.cloud import aiplatform\n",
    "from kfp.dsl import pipeline\n",
    "from kfp.dsl import component\n",
    "from kfp import compiler"
   ]
  },
  {
   "cell_type": "code",
   "execution_count": 7,
   "id": "1cbea268-033d-446d-8d43-df721df2645e",
   "metadata": {
    "tags": []
   },
   "outputs": [],
   "source": [
    "aiplatform.init(project=PROJECT_ID, location=REGION, staging_bucket=f\"{PROJECT_ID}-bucket\")"
   ]
  },
  {
   "cell_type": "code",
   "execution_count": 8,
   "id": "6aa7c1be-1cc2-4874-98dd-4a86ff6489c7",
   "metadata": {
    "tags": []
   },
   "outputs": [],
   "source": [
    "@component()\n",
    "def concat(a: str, b: str) -> str:\n",
    "    return a + b\n",
    "\n",
    "@component\n",
    "def reverse(a: str) -> NamedTuple(\"outputs\", [(\"before\", str), (\"after\", str)]):\n",
    "    return a, a[::-1]\n",
    "\n",
    "@pipeline(name=\"bootkon-example-pipeline\")\n",
    "def basic_pipeline(a: str='stres', b: str='sed'):\n",
    "    concat_task = concat(a=a, b=b)\n",
    "    reverse_task = reverse(a=concat_task.output)"
   ]
  },
  {
   "cell_type": "code",
   "execution_count": 9,
   "id": "bb89d802-f8d3-416f-a4ff-14a5ae9fa589",
   "metadata": {
    "tags": []
   },
   "outputs": [],
   "source": [
    "compiler.Compiler().compile(pipeline_func=basic_pipeline, package_path=\"pipeline.yaml\")"
   ]
  },
  {
   "cell_type": "code",
   "execution_count": null,
   "id": "f59906c9-b39f-4bba-936c-aaf0e0ff0364",
   "metadata": {},
   "outputs": [
    {
     "name": "stdout",
     "output_type": "stream",
     "text": [
      "Creating PipelineJob\n",
      "PipelineJob created. Resource name: projects/888342260584/locations/us-central1/pipelineJobs/bootkon-example-pipeline-20250130154138\n",
      "To use this PipelineJob in another session:\n",
      "pipeline_job = aiplatform.PipelineJob.get('projects/888342260584/locations/us-central1/pipelineJobs/bootkon-example-pipeline-20250130154138')\n",
      "View Pipeline Job:\n",
      "https://console.cloud.google.com/vertex-ai/locations/us-central1/pipelines/runs/bootkon-example-pipeline-20250130154138?project=888342260584\n",
      "PipelineJob projects/888342260584/locations/us-central1/pipelineJobs/bootkon-example-pipeline-20250130154138 current state:\n",
      "PipelineState.PIPELINE_STATE_RUNNING\n",
      "PipelineJob projects/888342260584/locations/us-central1/pipelineJobs/bootkon-example-pipeline-20250130154138 current state:\n",
      "PipelineState.PIPELINE_STATE_RUNNING\n"
     ]
    }
   ],
   "source": [
    "job = aiplatform.PipelineJob(\n",
    "    display_name=\"bootkon-example-pipeline\",\n",
    "    template_path=\"pipeline.yaml\",\n",
    "    pipeline_root=f\"gs://{PROJECT_ID}-bucket/pipeline-root\"\n",
    ")\n",
    "\n",
    "job.run(sync=True)  # Set sync=False for asynchronous execution"
   ]
  },
  {
   "cell_type": "code",
   "execution_count": 11,
   "id": "3f45d8f5-a439-4b29-94c1-21f49510981c",
   "metadata": {
    "tags": []
   },
   "outputs": [],
   "source": [
    "!mkdir -p src"
   ]
  },
  {
   "cell_type": "code",
   "execution_count": 12,
   "id": "b25e17ae-eda5-4e2c-9061-45b2a0f81f3e",
   "metadata": {
    "tags": []
   },
   "outputs": [
    {
     "name": "stdout",
     "output_type": "stream",
     "text": [
      "Overwriting src/train.py\n"
     ]
    }
   ],
   "source": [
    "%%writefile src/train.py\n",
    "#!/usr/bin/env python\n",
    "# Train a simple neural network classifier on Vertex AI\n",
    "\n",
    "import os\n",
    "from pprint import pprint\n",
    "pprint(dict(os.environ))\n",
    "import random\n",
    "random.seed(1337)\n",
    "\n",
    "import pandas as pd\n",
    "\n",
    "from google.cloud import aiplatform, storage\n",
    "\n",
    "from tensorflow.keras.models import Sequential\n",
    "from tensorflow.keras.layers import Dense, Input\n",
    "from tensorflow.keras import metrics\n",
    "\n",
    "\n",
    "BUCKET = os.environ[\"AIP_MODEL_DIR\"].split(\"/\")[2]\n",
    "\n",
    "aiplatform.init(project=os.environ[\"CLOUD_ML_PROJECT_ID\"],\n",
    "                location=os.environ[\"CLOUD_ML_REGION\"],\n",
    "                staging_bucket=BUCKET)\n",
    "\n",
    "# Load data\n",
    "x_train = pd.read_csv(f\"gs://{BUCKET}/vertex-data/x_train.csv\")\n",
    "y_train = pd.read_csv(f\"gs://{BUCKET}/vertex-data/y_train.csv\")[\"Class\"]\n",
    "\n",
    "# Train model\n",
    "model = Sequential([\n",
    "    Input(shape=(x_train.shape[1],)),\n",
    "    Dense(16, activation='relu'),\n",
    "    Dense(8, activation='relu'),  # Hidden layer with 8 neurons\n",
    "    Dense(1, activation='sigmoid')  # Output layer for binary classification\n",
    "])\n",
    "\n",
    "model.compile(optimizer='adam', \n",
    "              loss='binary_crossentropy', \n",
    "              metrics=[metrics.AUC()])\n",
    "\n",
    "history = model.fit(x_train.values, y_train.values, \n",
    "                    epochs=4, \n",
    "                    batch_size=32, \n",
    "                    validation_split=0.2, \n",
    "                    verbose=1)\n",
    "\n",
    "# Upload model to Cloud Storage\n",
    "model.save(os.environ[\"AIP_MODEL_DIR\"])"
   ]
  },
  {
   "cell_type": "markdown",
   "id": "e46bc31f-306b-48d9-b999-685e29dc2c65",
   "metadata": {},
   "source": [
    "Let's run the training job! It will take around 6 minutes, but the provisioning of the job may take longer if there are a lot of people requesting resources at the moment.\n",
    "\n",
    "While it is running, please go to the [`Training Jobs` in the Vertex AI Console](https://console.cloud.google.com/vertex-ai/training/training-pipelines) and click on the training job where you see **Status: Training**. The training job is based on a more general concept called `CustomJob` and adds functionality such as automatic model upload to Cloud Storage and registering the model to the model registry. Hence, to see details about the running job, click on the **Custom Job** and then **View Logs**.\n",
    "\n",
    "***\n",
    "<font color=\"red\">While you wait for the next code chunk to complete (10-20min), you can already start going through the notebook named `bootkon_vertex_pipelines.ipynb`. Come back here regularly and continue when it has finished.</font>\n",
    "***\n",
    "\n",
    "\n",
    "\n",
    "We also deploy to model to an endpoint. Go to [`Online Predictions` in Vertex AI](https://console.cloud.google.com/vertex-ai/endpoints). Notice how the above command first creates an `Endpoint` and then deploys our `Model` to this endpoint.\n"
   ]
  },
  {
   "cell_type": "code",
   "execution_count": null,
   "id": "02528830-62b6-469f-b803-0bc84fa7b431",
   "metadata": {},
   "outputs": [],
   "source": []
  }
 ],
 "metadata": {
  "environment": {
   "kernel": "conda-base-py",
   "name": "workbench-notebooks.m126",
   "type": "gcloud",
   "uri": "us-docker.pkg.dev/deeplearning-platform-release/gcr.io/workbench-notebooks:m126"
  },
  "kernelspec": {
   "display_name": "Python 3 (ipykernel) (Local)",
   "language": "python",
   "name": "conda-base-py"
  },
  "language_info": {
   "codemirror_mode": {
    "name": "ipython",
    "version": 3
   },
   "file_extension": ".py",
   "mimetype": "text/x-python",
   "name": "python",
   "nbconvert_exporter": "python",
   "pygments_lexer": "ipython3",
   "version": "3.10.15"
  }
 },
 "nbformat": 4,
 "nbformat_minor": 5
}
