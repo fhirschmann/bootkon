{
 "cells": [
  {
   "cell_type": "markdown",
   "id": "1ad2b88b",
   "metadata": {
    "tags": []
   },
   "source": [
    "# Lab 4: Machine Learning with Vertex AI\n",
    "\n",
    "Author: Fabian Hirschmann, Wissem Khlifi\n",
    "\n",
    "Welcome back 👋😍. During this lab, you will train a machine learning model on the data set you already know. Then, we will create a MLOps pipeline to automate this process.\n",
    "\n",
    "In a Jupyter Notebook, you can press `Shift + Return` to execute the current code junk and jump to the next one.\n",
    "\n",
    "First, let's set a few variables and perform some Python imports"
   ]
  },
  {
   "cell_type": "code",
   "execution_count": null,
   "id": "7bf0314c-770c-41fe-be57-f41eb17bf48a",
   "metadata": {
    "tags": []
   },
   "outputs": [],
   "source": [
    "import random\n",
    "random.seed(1337)\n",
    "\n",
    "from google.cloud import aiplatform, bigquery\n",
    "from sklearn import metrics\n",
    "from sklearn.ensemble import RandomForestClassifier\n",
    "from sklearn.model_selection import train_test_split\n",
    "from sklearn.datasets import make_classification\n",
    "\n",
    "import matplotlib.pyplot as plt\n",
    "\n",
    "project = !gcloud config get-value project\n",
    "PROJECT_ID = project[0]\n",
    "\n",
    "REGION = \"us-central1\"\n",
    "BQ_DATASET = \"ml_datasets\"\n",
    "BQ_TABLE = \"ulb_fraud_detection_dataproc\"\n",
    "BQ_SOURCE = f\"{PROJECT_ID}.{BQ_DATASET}.{BQ_TABLE}\""
   ]
  },
  {
   "cell_type": "markdown",
   "id": "07d9ce43-7912-4fcc-98ee-e30ae961e43e",
   "metadata": {},
   "source": [
    "The next chunk represents the source table in BigQuery we will be working with."
   ]
  },
  {
   "cell_type": "code",
   "execution_count": 146,
   "id": "6fc71c4c-6a9f-47bb-81f3-ed4ec4ce38b8",
   "metadata": {},
   "outputs": [
    {
     "data": {
      "text/plain": [
       "'888342260584.ml_datasets.ulb_fraud_detection_dataproc'"
      ]
     },
     "execution_count": 176,
     "metadata": {},
     "output_type": "execute_result"
    }
   ],
   "source": [
    "BQ_SOURCE"
   ]
  },
  {
   "cell_type": "markdown",
   "id": "a1a8cb35-8c90-4378-a592-fd28ffa6d1a5",
   "metadata": {},
   "source": [
    "Let's have a look at the data."
   ]
  },
  {
   "cell_type": "code",
   "execution_count": 167,
   "id": "e6ea1163",
   "metadata": {
    "tags": []
   },
   "outputs": [],
   "source": [
    "aiplatform.init(project=PROJECT_ID, location=REGION, staging_bucket=f\"{PROJECT_ID}-bucket\")\n",
    "bq = bigquery.Client(project=PROJECT_ID, location=REGION)"
   ]
  },
  {
   "cell_type": "code",
   "execution_count": 148,
   "id": "07455370-2100-469e-9a87-09963c593437",
   "metadata": {},
   "outputs": [],
   "source": [
    "data = bq.query(f\"SELECT * FROM `{BQ_SOURCE}`\").to_dataframe()"
   ]
  },
  {
   "cell_type": "code",
   "execution_count": 149,
   "id": "590bc934-a254-4ee3-9dc4-1a21cf57648d",
   "metadata": {},
   "outputs": [
    {
     "data": {
      "text/html": [
       "<div>\n",
       "<style scoped>\n",
       "    .dataframe tbody tr th:only-of-type {\n",
       "        vertical-align: middle;\n",
       "    }\n",
       "\n",
       "    .dataframe tbody tr th {\n",
       "        vertical-align: top;\n",
       "    }\n",
       "\n",
       "    .dataframe thead th {\n",
       "        text-align: right;\n",
       "    }\n",
       "</style>\n",
       "<table border=\"1\" class=\"dataframe\">\n",
       "  <thead>\n",
       "    <tr style=\"text-align: right;\">\n",
       "      <th></th>\n",
       "      <th>Time</th>\n",
       "      <th>V1</th>\n",
       "      <th>V2</th>\n",
       "      <th>V3</th>\n",
       "      <th>V4</th>\n",
       "      <th>V5</th>\n",
       "      <th>V6</th>\n",
       "      <th>V7</th>\n",
       "      <th>V8</th>\n",
       "      <th>V9</th>\n",
       "      <th>...</th>\n",
       "      <th>V21</th>\n",
       "      <th>V22</th>\n",
       "      <th>V23</th>\n",
       "      <th>V24</th>\n",
       "      <th>V25</th>\n",
       "      <th>V26</th>\n",
       "      <th>V27</th>\n",
       "      <th>V28</th>\n",
       "      <th>Amount</th>\n",
       "      <th>Class</th>\n",
       "    </tr>\n",
       "  </thead>\n",
       "  <tbody>\n",
       "    <tr>\n",
       "      <th>0</th>\n",
       "      <td>282.0</td>\n",
       "      <td>-0.356466</td>\n",
       "      <td>0.725418</td>\n",
       "      <td>1.971749</td>\n",
       "      <td>0.831343</td>\n",
       "      <td>0.369681</td>\n",
       "      <td>-0.107776</td>\n",
       "      <td>0.751610</td>\n",
       "      <td>-0.120166</td>\n",
       "      <td>-0.420675</td>\n",
       "      <td>...</td>\n",
       "      <td>0.020804</td>\n",
       "      <td>0.424312</td>\n",
       "      <td>-0.015989</td>\n",
       "      <td>0.466754</td>\n",
       "      <td>-0.809962</td>\n",
       "      <td>0.657334</td>\n",
       "      <td>-0.043150</td>\n",
       "      <td>-0.046401</td>\n",
       "      <td>0.00</td>\n",
       "      <td>0</td>\n",
       "    </tr>\n",
       "    <tr>\n",
       "      <th>1</th>\n",
       "      <td>14332.0</td>\n",
       "      <td>1.071950</td>\n",
       "      <td>0.340678</td>\n",
       "      <td>1.784068</td>\n",
       "      <td>2.846396</td>\n",
       "      <td>-0.751538</td>\n",
       "      <td>0.403028</td>\n",
       "      <td>-0.734920</td>\n",
       "      <td>0.205807</td>\n",
       "      <td>1.092726</td>\n",
       "      <td>...</td>\n",
       "      <td>-0.169632</td>\n",
       "      <td>-0.113604</td>\n",
       "      <td>0.067643</td>\n",
       "      <td>0.468669</td>\n",
       "      <td>0.223541</td>\n",
       "      <td>-0.112355</td>\n",
       "      <td>0.014015</td>\n",
       "      <td>0.021504</td>\n",
       "      <td>0.00</td>\n",
       "      <td>0</td>\n",
       "    </tr>\n",
       "    <tr>\n",
       "      <th>2</th>\n",
       "      <td>32799.0</td>\n",
       "      <td>1.153477</td>\n",
       "      <td>-0.047859</td>\n",
       "      <td>1.358363</td>\n",
       "      <td>1.480620</td>\n",
       "      <td>-1.222598</td>\n",
       "      <td>-0.481690</td>\n",
       "      <td>-0.654461</td>\n",
       "      <td>0.128115</td>\n",
       "      <td>0.907095</td>\n",
       "      <td>...</td>\n",
       "      <td>0.125514</td>\n",
       "      <td>0.480049</td>\n",
       "      <td>-0.025964</td>\n",
       "      <td>0.701843</td>\n",
       "      <td>0.417245</td>\n",
       "      <td>-0.257691</td>\n",
       "      <td>0.060115</td>\n",
       "      <td>0.035332</td>\n",
       "      <td>0.00</td>\n",
       "      <td>0</td>\n",
       "    </tr>\n",
       "    <tr>\n",
       "      <th>3</th>\n",
       "      <td>35799.0</td>\n",
       "      <td>-0.769798</td>\n",
       "      <td>0.622325</td>\n",
       "      <td>0.242491</td>\n",
       "      <td>-0.586652</td>\n",
       "      <td>0.527819</td>\n",
       "      <td>-0.104512</td>\n",
       "      <td>0.209909</td>\n",
       "      <td>0.669861</td>\n",
       "      <td>-0.304509</td>\n",
       "      <td>...</td>\n",
       "      <td>0.152738</td>\n",
       "      <td>0.255654</td>\n",
       "      <td>-0.130237</td>\n",
       "      <td>-0.660934</td>\n",
       "      <td>-0.493374</td>\n",
       "      <td>0.331855</td>\n",
       "      <td>-0.011101</td>\n",
       "      <td>0.049089</td>\n",
       "      <td>0.00</td>\n",
       "      <td>0</td>\n",
       "    </tr>\n",
       "    <tr>\n",
       "      <th>4</th>\n",
       "      <td>36419.0</td>\n",
       "      <td>1.047960</td>\n",
       "      <td>0.145048</td>\n",
       "      <td>1.624573</td>\n",
       "      <td>2.932652</td>\n",
       "      <td>-0.726574</td>\n",
       "      <td>0.690451</td>\n",
       "      <td>-0.627288</td>\n",
       "      <td>0.278709</td>\n",
       "      <td>0.318434</td>\n",
       "      <td>...</td>\n",
       "      <td>0.078499</td>\n",
       "      <td>0.658942</td>\n",
       "      <td>-0.067810</td>\n",
       "      <td>0.476882</td>\n",
       "      <td>0.526830</td>\n",
       "      <td>0.219902</td>\n",
       "      <td>0.070627</td>\n",
       "      <td>0.028488</td>\n",
       "      <td>0.00</td>\n",
       "      <td>0</td>\n",
       "    </tr>\n",
       "    <tr>\n",
       "      <th>...</th>\n",
       "      <td>...</td>\n",
       "      <td>...</td>\n",
       "      <td>...</td>\n",
       "      <td>...</td>\n",
       "      <td>...</td>\n",
       "      <td>...</td>\n",
       "      <td>...</td>\n",
       "      <td>...</td>\n",
       "      <td>...</td>\n",
       "      <td>...</td>\n",
       "      <td>...</td>\n",
       "      <td>...</td>\n",
       "      <td>...</td>\n",
       "      <td>...</td>\n",
       "      <td>...</td>\n",
       "      <td>...</td>\n",
       "      <td>...</td>\n",
       "      <td>...</td>\n",
       "      <td>...</td>\n",
       "      <td>...</td>\n",
       "      <td>...</td>\n",
       "    </tr>\n",
       "    <tr>\n",
       "      <th>284802</th>\n",
       "      <td>154599.0</td>\n",
       "      <td>0.667714</td>\n",
       "      <td>3.041502</td>\n",
       "      <td>-5.845112</td>\n",
       "      <td>5.967587</td>\n",
       "      <td>0.213863</td>\n",
       "      <td>-1.462923</td>\n",
       "      <td>-2.688761</td>\n",
       "      <td>0.677764</td>\n",
       "      <td>-3.447596</td>\n",
       "      <td>...</td>\n",
       "      <td>0.329760</td>\n",
       "      <td>-0.941383</td>\n",
       "      <td>-0.006075</td>\n",
       "      <td>-0.958925</td>\n",
       "      <td>0.239298</td>\n",
       "      <td>-0.067356</td>\n",
       "      <td>0.821048</td>\n",
       "      <td>0.426175</td>\n",
       "      <td>6.74</td>\n",
       "      <td>1</td>\n",
       "    </tr>\n",
       "    <tr>\n",
       "      <th>284803</th>\n",
       "      <td>90676.0</td>\n",
       "      <td>-2.405580</td>\n",
       "      <td>3.738235</td>\n",
       "      <td>-2.317843</td>\n",
       "      <td>1.367442</td>\n",
       "      <td>0.394001</td>\n",
       "      <td>1.919938</td>\n",
       "      <td>-3.106942</td>\n",
       "      <td>-10.764403</td>\n",
       "      <td>3.353525</td>\n",
       "      <td>...</td>\n",
       "      <td>10.005998</td>\n",
       "      <td>-2.454964</td>\n",
       "      <td>1.684957</td>\n",
       "      <td>0.118263</td>\n",
       "      <td>-1.531380</td>\n",
       "      <td>-0.695308</td>\n",
       "      <td>-0.152502</td>\n",
       "      <td>-0.138866</td>\n",
       "      <td>6.99</td>\n",
       "      <td>1</td>\n",
       "    </tr>\n",
       "    <tr>\n",
       "      <th>284804</th>\n",
       "      <td>34634.0</td>\n",
       "      <td>0.333499</td>\n",
       "      <td>1.699873</td>\n",
       "      <td>-2.596561</td>\n",
       "      <td>3.643945</td>\n",
       "      <td>-0.585068</td>\n",
       "      <td>-0.654659</td>\n",
       "      <td>-2.275789</td>\n",
       "      <td>0.675229</td>\n",
       "      <td>-2.042416</td>\n",
       "      <td>...</td>\n",
       "      <td>0.469212</td>\n",
       "      <td>-0.144363</td>\n",
       "      <td>-0.317981</td>\n",
       "      <td>-0.769644</td>\n",
       "      <td>0.807855</td>\n",
       "      <td>0.228164</td>\n",
       "      <td>0.551002</td>\n",
       "      <td>0.305473</td>\n",
       "      <td>18.96</td>\n",
       "      <td>1</td>\n",
       "    </tr>\n",
       "    <tr>\n",
       "      <th>284805</th>\n",
       "      <td>96135.0</td>\n",
       "      <td>-1.952933</td>\n",
       "      <td>3.541385</td>\n",
       "      <td>-1.310561</td>\n",
       "      <td>5.955664</td>\n",
       "      <td>-1.003993</td>\n",
       "      <td>0.983049</td>\n",
       "      <td>-4.587235</td>\n",
       "      <td>-4.892184</td>\n",
       "      <td>-2.516752</td>\n",
       "      <td>...</td>\n",
       "      <td>-1.998091</td>\n",
       "      <td>1.133706</td>\n",
       "      <td>-0.041461</td>\n",
       "      <td>-0.215379</td>\n",
       "      <td>-0.865599</td>\n",
       "      <td>0.212545</td>\n",
       "      <td>0.532897</td>\n",
       "      <td>0.357892</td>\n",
       "      <td>18.96</td>\n",
       "      <td>1</td>\n",
       "    </tr>\n",
       "    <tr>\n",
       "      <th>284806</th>\n",
       "      <td>4462.0</td>\n",
       "      <td>-2.303350</td>\n",
       "      <td>1.759247</td>\n",
       "      <td>-0.359745</td>\n",
       "      <td>2.330243</td>\n",
       "      <td>-0.821628</td>\n",
       "      <td>-0.075788</td>\n",
       "      <td>0.562320</td>\n",
       "      <td>-0.399147</td>\n",
       "      <td>-0.238253</td>\n",
       "      <td>...</td>\n",
       "      <td>-0.294166</td>\n",
       "      <td>-0.932391</td>\n",
       "      <td>0.172726</td>\n",
       "      <td>-0.087330</td>\n",
       "      <td>-0.156114</td>\n",
       "      <td>-0.542628</td>\n",
       "      <td>0.039566</td>\n",
       "      <td>-0.153029</td>\n",
       "      <td>239.93</td>\n",
       "      <td>1</td>\n",
       "    </tr>\n",
       "  </tbody>\n",
       "</table>\n",
       "<p>284807 rows × 31 columns</p>\n",
       "</div>"
      ],
      "text/plain": [
       "            Time        V1        V2        V3        V4        V5        V6  \\\n",
       "0          282.0 -0.356466  0.725418  1.971749  0.831343  0.369681 -0.107776   \n",
       "1        14332.0  1.071950  0.340678  1.784068  2.846396 -0.751538  0.403028   \n",
       "2        32799.0  1.153477 -0.047859  1.358363  1.480620 -1.222598 -0.481690   \n",
       "3        35799.0 -0.769798  0.622325  0.242491 -0.586652  0.527819 -0.104512   \n",
       "4        36419.0  1.047960  0.145048  1.624573  2.932652 -0.726574  0.690451   \n",
       "...          ...       ...       ...       ...       ...       ...       ...   \n",
       "284802  154599.0  0.667714  3.041502 -5.845112  5.967587  0.213863 -1.462923   \n",
       "284803   90676.0 -2.405580  3.738235 -2.317843  1.367442  0.394001  1.919938   \n",
       "284804   34634.0  0.333499  1.699873 -2.596561  3.643945 -0.585068 -0.654659   \n",
       "284805   96135.0 -1.952933  3.541385 -1.310561  5.955664 -1.003993  0.983049   \n",
       "284806    4462.0 -2.303350  1.759247 -0.359745  2.330243 -0.821628 -0.075788   \n",
       "\n",
       "              V7         V8        V9  ...        V21       V22       V23  \\\n",
       "0       0.751610  -0.120166 -0.420675  ...   0.020804  0.424312 -0.015989   \n",
       "1      -0.734920   0.205807  1.092726  ...  -0.169632 -0.113604  0.067643   \n",
       "2      -0.654461   0.128115  0.907095  ...   0.125514  0.480049 -0.025964   \n",
       "3       0.209909   0.669861 -0.304509  ...   0.152738  0.255654 -0.130237   \n",
       "4      -0.627288   0.278709  0.318434  ...   0.078499  0.658942 -0.067810   \n",
       "...          ...        ...       ...  ...        ...       ...       ...   \n",
       "284802 -2.688761   0.677764 -3.447596  ...   0.329760 -0.941383 -0.006075   \n",
       "284803 -3.106942 -10.764403  3.353525  ...  10.005998 -2.454964  1.684957   \n",
       "284804 -2.275789   0.675229 -2.042416  ...   0.469212 -0.144363 -0.317981   \n",
       "284805 -4.587235  -4.892184 -2.516752  ...  -1.998091  1.133706 -0.041461   \n",
       "284806  0.562320  -0.399147 -0.238253  ...  -0.294166 -0.932391  0.172726   \n",
       "\n",
       "             V24       V25       V26       V27       V28  Amount  Class  \n",
       "0       0.466754 -0.809962  0.657334 -0.043150 -0.046401    0.00      0  \n",
       "1       0.468669  0.223541 -0.112355  0.014015  0.021504    0.00      0  \n",
       "2       0.701843  0.417245 -0.257691  0.060115  0.035332    0.00      0  \n",
       "3      -0.660934 -0.493374  0.331855 -0.011101  0.049089    0.00      0  \n",
       "4       0.476882  0.526830  0.219902  0.070627  0.028488    0.00      0  \n",
       "...          ...       ...       ...       ...       ...     ...    ...  \n",
       "284802 -0.958925  0.239298 -0.067356  0.821048  0.426175    6.74      1  \n",
       "284803  0.118263 -1.531380 -0.695308 -0.152502 -0.138866    6.99      1  \n",
       "284804 -0.769644  0.807855  0.228164  0.551002  0.305473   18.96      1  \n",
       "284805 -0.215379 -0.865599  0.212545  0.532897  0.357892   18.96      1  \n",
       "284806 -0.087330 -0.156114 -0.542628  0.039566 -0.153029  239.93      1  \n",
       "\n",
       "[284807 rows x 31 columns]"
      ]
     },
     "execution_count": 179,
     "metadata": {},
     "output_type": "execute_result"
    }
   ],
   "source": [
    "data"
   ]
  },
  {
   "cell_type": "code",
   "execution_count": 150,
   "id": "5707b149-4f88-4375-ba9b-878781b57eab",
   "metadata": {},
   "outputs": [],
   "source": [
    "target = data[\"Class\"]\n",
    "data.drop(\"Class\", axis=1, inplace=True)"
   ]
  },
  {
   "cell_type": "code",
   "execution_count": 151,
   "id": "cfefa617-6cd7-40f3-81ae-4aa1c2aa2ee1",
   "metadata": {},
   "outputs": [
    {
     "data": {
      "text/plain": [
       "Class\n",
       "0    284315\n",
       "1       492\n",
       "Name: count, dtype: Int64"
      ]
     },
     "execution_count": 151,
     "metadata": {},
     "output_type": "execute_result"
    }
   ],
   "source": [
    "target.value_counts()"
   ]
  },
  {
   "cell_type": "code",
   "execution_count": 152,
   "id": "ec82ed34-ae5d-4102-a67d-b3f6956a435c",
   "metadata": {},
   "outputs": [],
   "source": [
    "x_train, x_test, y_train, y_test = train_test_split(data, target, train_size = 0.80)"
   ]
  },
  {
   "cell_type": "code",
   "execution_count": 153,
   "id": "f37b1fc0-880a-46ce-b290-d4e89ee93e76",
   "metadata": {},
   "outputs": [],
   "source": [
    "clf = RandomForestClassifier(n_estimators=50, n_jobs=50)"
   ]
  },
  {
   "cell_type": "code",
   "execution_count": 154,
   "id": "8384ac72-80da-424f-9b9a-6cec3b63b780",
   "metadata": {
    "tags": []
   },
   "outputs": [
    {
     "name": "stdout",
     "output_type": "stream",
     "text": [
      "CPU times: user 4 µs, sys: 0 ns, total: 4 µs\n",
      "Wall time: 6.68 µs\n"
     ]
    },
    {
     "data": {
      "text/html": [
       "<style>#sk-container-id-4 {color: black;}#sk-container-id-4 pre{padding: 0;}#sk-container-id-4 div.sk-toggleable {background-color: white;}#sk-container-id-4 label.sk-toggleable__label {cursor: pointer;display: block;width: 100%;margin-bottom: 0;padding: 0.3em;box-sizing: border-box;text-align: center;}#sk-container-id-4 label.sk-toggleable__label-arrow:before {content: \"▸\";float: left;margin-right: 0.25em;color: #696969;}#sk-container-id-4 label.sk-toggleable__label-arrow:hover:before {color: black;}#sk-container-id-4 div.sk-estimator:hover label.sk-toggleable__label-arrow:before {color: black;}#sk-container-id-4 div.sk-toggleable__content {max-height: 0;max-width: 0;overflow: hidden;text-align: left;background-color: #f0f8ff;}#sk-container-id-4 div.sk-toggleable__content pre {margin: 0.2em;color: black;border-radius: 0.25em;background-color: #f0f8ff;}#sk-container-id-4 input.sk-toggleable__control:checked~div.sk-toggleable__content {max-height: 200px;max-width: 100%;overflow: auto;}#sk-container-id-4 input.sk-toggleable__control:checked~label.sk-toggleable__label-arrow:before {content: \"▾\";}#sk-container-id-4 div.sk-estimator input.sk-toggleable__control:checked~label.sk-toggleable__label {background-color: #d4ebff;}#sk-container-id-4 div.sk-label input.sk-toggleable__control:checked~label.sk-toggleable__label {background-color: #d4ebff;}#sk-container-id-4 input.sk-hidden--visually {border: 0;clip: rect(1px 1px 1px 1px);clip: rect(1px, 1px, 1px, 1px);height: 1px;margin: -1px;overflow: hidden;padding: 0;position: absolute;width: 1px;}#sk-container-id-4 div.sk-estimator {font-family: monospace;background-color: #f0f8ff;border: 1px dotted black;border-radius: 0.25em;box-sizing: border-box;margin-bottom: 0.5em;}#sk-container-id-4 div.sk-estimator:hover {background-color: #d4ebff;}#sk-container-id-4 div.sk-parallel-item::after {content: \"\";width: 100%;border-bottom: 1px solid gray;flex-grow: 1;}#sk-container-id-4 div.sk-label:hover label.sk-toggleable__label {background-color: #d4ebff;}#sk-container-id-4 div.sk-serial::before {content: \"\";position: absolute;border-left: 1px solid gray;box-sizing: border-box;top: 0;bottom: 0;left: 50%;z-index: 0;}#sk-container-id-4 div.sk-serial {display: flex;flex-direction: column;align-items: center;background-color: white;padding-right: 0.2em;padding-left: 0.2em;position: relative;}#sk-container-id-4 div.sk-item {position: relative;z-index: 1;}#sk-container-id-4 div.sk-parallel {display: flex;align-items: stretch;justify-content: center;background-color: white;position: relative;}#sk-container-id-4 div.sk-item::before, #sk-container-id-4 div.sk-parallel-item::before {content: \"\";position: absolute;border-left: 1px solid gray;box-sizing: border-box;top: 0;bottom: 0;left: 50%;z-index: -1;}#sk-container-id-4 div.sk-parallel-item {display: flex;flex-direction: column;z-index: 1;position: relative;background-color: white;}#sk-container-id-4 div.sk-parallel-item:first-child::after {align-self: flex-end;width: 50%;}#sk-container-id-4 div.sk-parallel-item:last-child::after {align-self: flex-start;width: 50%;}#sk-container-id-4 div.sk-parallel-item:only-child::after {width: 0;}#sk-container-id-4 div.sk-dashed-wrapped {border: 1px dashed gray;margin: 0 0.4em 0.5em 0.4em;box-sizing: border-box;padding-bottom: 0.4em;background-color: white;}#sk-container-id-4 div.sk-label label {font-family: monospace;font-weight: bold;display: inline-block;line-height: 1.2em;}#sk-container-id-4 div.sk-label-container {text-align: center;}#sk-container-id-4 div.sk-container {/* jupyter's `normalize.less` sets `[hidden] { display: none; }` but bootstrap.min.css set `[hidden] { display: none !important; }` so we also need the `!important` here to be able to override the default hidden behavior on the sphinx rendered scikit-learn.org. See: https://github.com/scikit-learn/scikit-learn/issues/21755 */display: inline-block !important;position: relative;}#sk-container-id-4 div.sk-text-repr-fallback {display: none;}</style><div id=\"sk-container-id-4\" class=\"sk-top-container\"><div class=\"sk-text-repr-fallback\"><pre>RandomForestClassifier(n_estimators=50, n_jobs=50)</pre><b>In a Jupyter environment, please rerun this cell to show the HTML representation or trust the notebook. <br />On GitHub, the HTML representation is unable to render, please try loading this page with nbviewer.org.</b></div><div class=\"sk-container\" hidden><div class=\"sk-item\"><div class=\"sk-estimator sk-toggleable\"><input class=\"sk-toggleable__control sk-hidden--visually\" id=\"sk-estimator-id-4\" type=\"checkbox\" checked><label for=\"sk-estimator-id-4\" class=\"sk-toggleable__label sk-toggleable__label-arrow\">RandomForestClassifier</label><div class=\"sk-toggleable__content\"><pre>RandomForestClassifier(n_estimators=50, n_jobs=50)</pre></div></div></div></div></div>"
      ],
      "text/plain": [
       "RandomForestClassifier(n_estimators=50, n_jobs=50)"
      ]
     },
     "execution_count": 154,
     "metadata": {},
     "output_type": "execute_result"
    }
   ],
   "source": [
    "clf.fit(x_train, y_train)"
   ]
  },
  {
   "cell_type": "code",
   "execution_count": 155,
   "id": "e2a7e55b-8524-4cb0-94a0-9134ddf38b46",
   "metadata": {},
   "outputs": [],
   "source": [
    "preds = clf.predict(x_test)"
   ]
  },
  {
   "cell_type": "code",
   "execution_count": 156,
   "id": "01e66a41-9930-4de0-b748-62a6614c2e5e",
   "metadata": {},
   "outputs": [],
   "source": [
    "fpr, tpr, thresholds = metrics.roc_curve(y_test, preds)"
   ]
  },
  {
   "cell_type": "code",
   "execution_count": 157,
   "id": "666b3021-756b-4c76-91e7-950d79d246f0",
   "metadata": {},
   "outputs": [
    {
     "data": {
      "text/plain": [
       "0.8867660703903407"
      ]
     },
     "execution_count": 157,
     "metadata": {},
     "output_type": "execute_result"
    }
   ],
   "source": [
    "metrics.auc(fpr, tpr)"
   ]
  },
  {
   "cell_type": "code",
   "execution_count": 135,
   "id": "0ff076db-5685-4bdc-b7fb-b83608b53246",
   "metadata": {},
   "outputs": [
    {
     "data": {
      "image/png": "[encoded data removed]",
      "text/plain": [
       "<Figure size 640x480 with 2 Axes>"
      ]
     },
     "metadata": {},
     "output_type": "display_data"
    }
   ],
   "source": [
    "cm = metrics.confusion_matrix(y_test, preds, labels=model.classes_)\n",
    "disp = metrics.ConfusionMatrixDisplay(confusion_matrix=cm, display_labels=model.classes_)\n",
    "disp.plot()\n",
    "plt.show()"
   ]
  },
  {
   "cell_type": "code",
   "execution_count": 189,
   "id": "322f2819-118c-4fbc-8f12-88bcfa8a0625",
   "metadata": {},
   "outputs": [
    {
     "name": "stdout",
     "output_type": "stream",
     "text": [
      "Overwriting train.py\n"
     ]
    }
   ],
   "source": [
    "%%writefile train.py\n",
    "#!/usr/bin/env python\n",
    "import os\n",
    "from pprint import pprint\n",
    "pprint(dict(os.environ))\n",
    "import joblib\n",
    "import random\n",
    "random.seed(1337)\n",
    "\n",
    "from google.cloud import aiplatform, bigquery\n",
    "from sklearn.model_selection import train_test_split\n",
    "from sklearn.datasets import make_classification\n",
    "from sklearn.ensemble import RandomForestClassifier\n",
    "\n",
    "aiplatform.init(project=os.environ[\"CLOUD_ML_PROJECT_ID\"],\n",
    "                location=os.environ[\"CLOUD_ML_REGION\"],\n",
    "                staging_bucket=os.environ[\"AIP_MODEL_DIR\"].split(\"/\")[2])\n",
    "bq = bigquery.Client(project=os.environ[\"CLOUD_ML_PROJECT_ID\"])\n",
    "\n",
    "BQ_SOURCE = os.environ[\"CLOUD_ML_PROJECT_ID\"] + \".ml_datasets.ulb_fraud_detection_dataproc\"\n",
    "data = bq.query(f\"SELECT * FROM `{BQ_SOURCE}`\").to_dataframe()\n",
    "target = data[\"Class\"]\n",
    "data.drop(\"Class\", axis=1, inplace=True)\n",
    "\n",
    "x_train, x_test, y_train, y_test = train_test_split(data, target, train_size = 0.80)\n",
    "clf = RandomForestClassifier(n_estimators=50, n_jobs=50)\n",
    "clf.fit(x_train, y_train)\n",
    "\n",
    "joblib.dump(clf, os.path.join(os.environ[\"AIP_MODEL_DIR\"], \"model.pkl\"))"
   ]
  },
  {
   "cell_type": "code",
   "execution_count": 190,
   "id": "13a24ac5-2295-4006-b1fb-3fd40b23d3c8",
   "metadata": {},
   "outputs": [],
   "source": [
    "job = aiplatform.CustomTrainingJob(\n",
    "    display_name=\"bootkon-model\",\n",
    "    script_path=\"train.py\",\n",
    "    container_uri=\"us-docker.pkg.dev/vertex-ai/training/sklearn-cpu.1-0:latest\",\n",
    "    requirements=[\"google-cloud-bigquery\", \"db-dtypes\"], # python packages to install (pip style)\n",
    ")"
   ]
  },
  {
   "cell_type": "markdown",
   "id": "b4b7ba8f-19d1-4f75-8353-4db8b32aafe4",
   "metadata": {},
   "source": [
    "Let's run the training job! "
   ]
  },
  {
   "cell_type": "code",
   "execution_count": null,
   "id": "823ca126-1d7a-4d8f-bbcf-b974c3d16a3f",
   "metadata": {},
   "outputs": [],
   "source": [
    "job.run(\n",
    "    machine_type=\"e2-standard-4\",\n",
    "    replica_count=1,\n",
    ")"
   ]
  },
  {
   "cell_type": "markdown",
   "id": "c236ac0c-601b-468a-8c5d-890fe19955b5",
   "metadata": {},
   "source": [
    "While it is running, please go to the [Vertex AI Console](https://console.cloud.google.com/vertex-ai/training/training-pipelines) and click on the training job where you see **Status: Training**. The training job is based on a more general concept called `CustomJob`, and it adds functionality such as automatic model upload to Cloud Storage and registering the model to the model registry. Hence, to see details about the running job, click on the **Custom Job** and then **View Logs**."
   ]
  },
  {
   "cell_type": "code",
   "execution_count": null,
   "id": "42bf8e27-b7b6-42a8-ad0d-da43cb497896",
   "metadata": {},
   "outputs": [],
   "source": []
  },
  {
   "cell_type": "markdown",
   "id": "d5815579",
   "metadata": {},
   "source": [
    "---\n",
    "## Create Dataset (link to BigQuery table)"
   ]
  },
  {
   "cell_type": "markdown",
   "id": "fd154aaf-95c8-4ce2-aa3d-8cd335ddbc62",
   "metadata": {},
   "source": [
    "### Explanation of Using Vertex AI Dataset Over Directly Using BigQuery Dataset\n",
    "- Seamless Integration and Preprocessing : By creating a dataset in Vertex AI, you enable seamless integration with other Vertex AI tools and services. This ensures that data is correctly formatted and optimized for machine learning tasks within Vertex AI.\n",
    "- Automated Preprocessing : Vertex AI AutoML handles much of the preprocessing required for machine learning automatically. This includes handling missing values, normalizing data, and encoding categorical variables. Directly using a BigQuery dataset would require manual preprocessing.\n",
    "\n",
    "In summary, creating a dataset in Vertex AI provides a robust and integrated environment for machine learning that enhances preprocessing, training, and management capabilities. It leverages the power of BigQuery for data storage while taking advantage of Vertex AI’s advanced ML features, leading to more efficient and effective model development and deployment.\n",
    "\n"
   ]
  },
  {
   "cell_type": "markdown",
   "id": "46b48275",
   "metadata": {},
   "source": [
    "### Train Model with AutoML"
   ]
  },
  {
   "cell_type": "code",
   "execution_count": 16,
   "id": "51634455",
   "metadata": {
    "tags": []
   },
   "outputs": [],
   "source": [
    "# Define column specifications by excluding omitted variables, the target variable, and the split column.\n",
    "# This ensures the model focuses only on relevant features.\n",
    "\n",
    "column_specs = list(set(dataset.column_names) - set(VAR_OMIT.split()) - set([VAR_TARGET, 'splits']))"
   ]
  },
  {
   "cell_type": "code",
   "execution_count": 18,
   "id": "3115cad7",
   "metadata": {
    "tags": []
   },
   "outputs": [],
   "source": [
    "# Assign default type 'auto' to all columns\n",
    "# This allows AutoML to automatically infer the data type and handle preprocessing.\n",
    "\n",
    "column_specs = dict.fromkeys(column_specs, 'auto')"
   ]
  },
  {
   "cell_type": "markdown",
   "id": "da9ce943",
   "metadata": {},
   "source": [
    "Define a Job:\n",
    "- Consider Weighting : : Adjusts for class imbalance by assigning weights to classes.\n",
    "- Model Type: : Specifies the type of model (e.g., classification, regression).\n",
    "- Optimization Objective: Defines the metric to optimize (e.g., AUC for binary classification). For more details , refer to \"Understanding Machine Learning Objectives for Imbalanced Datasets\" section of  The FraudFix Use Case PDF.\n",
    "\n",
    "https://googleapis.dev/python/aiplatform/latest/aiplatform.html#google.cloud.aiplatform.AutoMLTabularTrainingJob"
   ]
  },
  {
   "cell_type": "code",
   "execution_count": 19,
   "id": "2ada2e66",
   "metadata": {
    "tags": []
   },
   "outputs": [],
   "source": [
    "# Train Model with AutoML\n",
    "# Vertex AI AutoML uses the linked dataset to train the model. The compute resources for training are provided by Vertex AI.\n",
    "\n",
    "tabular_classification_job = aiplatform.AutoMLTabularTrainingJob(\n",
    "    display_name = f'{NOTEBOOK}_{BQ_TABLE}_{TIMESTAMP}',\n",
    "    optimization_prediction_type = 'classification',\n",
    "    optimization_objective = 'maximize-au-prc',\n",
    "    column_specs = column_specs,\n",
    "    labels = {'notebook':f'{NOTEBOOK}'}\n",
    ")"
   ]
  },
  {
   "cell_type": "code",
   "execution_count": null,
   "id": "d3c1a2f4",
   "metadata": {
    "scrolled": true,
    "tags": []
   },
   "outputs": [],
   "source": [
    "# Run the training job\n",
    "# this job would take +2 hours,  depending on your infrastcuture\n",
    "model = tabular_classification_job.run(\n",
    "    dataset = dataset,\n",
    "    target_column = VAR_TARGET,\n",
    "    predefined_split_column_name = 'splits',\n",
    "    #    training_fraction_split = 0.8,\n",
    "    #    validation_fraction_split = 0.1,\n",
    "    #    test_fraction_split = 0.1,\n",
    "    budget_milli_node_hours = 1000,\n",
    "    model_display_name = f'{NOTEBOOK}_{BQ_TABLE}_{TIMESTAMP}',\n",
    "    disable_early_stopping = False,\n",
    "    model_labels = {'notebook':f'{NOTEBOOK}'}\n",
    ")"
   ]
  },
  {
   "cell_type": "markdown",
   "id": "29723311-0089-4b50-a189-9340d4f52bc2",
   "metadata": {},
   "source": [
    "## **For the remaining commands in the notebook: Since the pipeline job takes a significant amount of time to complete, we will demonstrate the results of the following commands on stage.**"
   ]
  },
  {
   "cell_type": "markdown",
   "id": "0523ffaa-9dfb-41cb-b7b5-6cc6ddae1613",
   "metadata": {
    "tags": []
   },
   "source": [
    "---\n",
    "## Evaluation\n",
    "While the model above was trained using AutoML with the API, it is still possible to review the evaluation metrics directly in the Google Cloud Console.  Just visit the Models section of Vertex AI service and select the model and it will present the evaluation metrics with many helpful visuals.\n",
    "\n",
    "It is also possible to retrieve the evaluation metrics for you model using the API.  This section shows how to use the API.\n"
   ]
  },
  {
   "cell_type": "markdown",
   "id": "a106b740-1d3b-43b5-ac3d-311fb298b2bf",
   "metadata": {},
   "source": [
    "Setup a model client for the model create by this notebook:"
   ]
  },
  {
   "cell_type": "code",
   "execution_count": 22,
   "id": "a4f7b61b-ad0f-487b-8dc6-ac8ed12e6afb",
   "metadata": {
    "tags": []
   },
   "outputs": [
    {
     "data": {
      "text/plain": [
       "'projects/292219499736/locations/us-central1/models/7740686104356978688'"
      ]
     },
     "execution_count": 22,
     "metadata": {},
     "output_type": "execute_result"
    }
   ],
   "source": [
    "# Print model.resource_name \n",
    "# If for any reason, the model.resource_name is not set , then set it with the actual resource name of your trained model. \n",
    "# This resource name uniquely identifies your model in Vertex AI.\n",
    "\n",
    "model.resource_name"
   ]
  },
  {
   "cell_type": "code",
   "execution_count": 23,
   "id": "02bbdfaa-75dc-4482-8781-d73f0043aaf9",
   "metadata": {
    "tags": []
   },
   "outputs": [],
   "source": [
    "model_client = aiplatform.gapic.ModelServiceClient(\n",
    "    client_options = {\n",
    "        'api_endpoint' : f'{REGION}-aiplatform.googleapis.com'\n",
    "    }\n",
    ")"
   ]
  },
  {
   "cell_type": "markdown",
   "id": "71227e04-8bb0-46d5-862e-3fddfe0361ae",
   "metadata": {},
   "source": [
    "Retrives the aggregate model evalution metrics for the model as a whole.  First, use `.list_model_evaluations` to retrieve the evaluation id, then use `.get_model_evaluation` for the evaluation id:"
   ]
  },
  {
   "cell_type": "code",
   "execution_count": 24,
   "id": "974b597e-f01d-4147-a824-9a6ac8246a1f",
   "metadata": {
    "tags": []
   },
   "outputs": [],
   "source": [
    "# List model evaluations and get the first evaluation ID\n",
    "# list_model_evaluations : This method lists all evaluations associated with the specified model. \n",
    "# Evaluations contain metrics and other information about the model's performance.\n",
    "\n",
    "evaluations = model_client.list_model_evaluations(parent = model.resource_name)\n",
    "\n",
    "evals = iter(evaluations)\n",
    "eval_id = next(evals).name\n",
    "\n",
    "# get_model_evaluation : Once you have the evaluation ID, use this method to retrieve detailed evaluation metrics.\n",
    "\n",
    "geteval = model_client.get_model_evaluation(name = eval_id)"
   ]
  },
  {
   "cell_type": "markdown",
   "id": "39aa9551-2e4a-4673-b0d5-1ddec1233e0e",
   "metadata": {},
   "source": [
    "Review several of the metrics include in the evaluation.  Also, compare these to the results in the console view."
   ]
  },
  {
   "cell_type": "code",
   "execution_count": 25,
   "id": "8dd6e04f-c0ec-4ad1-a8be-460cddcb0267",
   "metadata": {
    "tags": []
   },
   "outputs": [
    {
     "data": {
      "text/plain": [
       "0.99986017"
      ]
     },
     "execution_count": 25,
     "metadata": {},
     "output_type": "execute_result"
    }
   ],
   "source": [
    "# Access and print the AUC metric\n",
    " # Area under the Precision-Recall curve\n",
    "#  Retrieve specific metrics such as AUC (Area Under the Precision-Recall Curve) and confusion matrix. These metrics help assess the model's performance.\n",
    "geteval.metrics['auPrc']"
   ]
  },
  {
   "cell_type": "markdown",
   "id": "5f983951-7597-463f-b029-031c38e6b2ad",
   "metadata": {},
   "source": [
    "##### - **Interpretation of the Results**:\n",
    "**Example : (Your results could be different)**\n",
    "\n",
    "An AUC-PR value of `0.99986017` indicates an excellent model performance. The closer the value is to `1.0`, the better the model is at distinguishing between the positive and negative classes.\n"
   ]
  },
  {
   "cell_type": "code",
   "execution_count": 26,
   "id": "edd9892b-eeac-4a64-aa9b-68a7a45a3e76",
   "metadata": {
    "tags": []
   },
   "outputs": [
    {
     "name": "stdout",
     "output_type": "stream",
     "text": [
      "True Label =  0  has Predicted labels =  [28132.0, 1.0, 0.0]\n",
      "True Label =  1  has Predicted labels =  [7.0, 13.0, 0.0]\n",
      "True Label =  DROPPED  has Predicted labels =  [0.0, 0.0, 0.0]\n"
     ]
    }
   ],
   "source": [
    "# Access and print the confusion matrix\n",
    "# Print the confusion matrix, which shows how often each class is predicted correctly versus incorrectly. \n",
    "# This is useful for understanding the model's accuracy for each class.\n",
    "\n",
    "for i in range(len(geteval.metrics['confusionMatrix']['annotationSpecs'])):\n",
    "    print('True Label = ', geteval.metrics['confusionMatrix']['annotationSpecs'][i]['displayName'], ' has Predicted labels = ', geteval.metrics['confusionMatrix']['rows'][i])"
   ]
  },
  {
   "cell_type": "markdown",
   "id": "5838ddd5-51b9-4a04-acee-18da385924f8",
   "metadata": {},
   "source": [
    "##### - **Interpretation of the Results**:\n",
    "**Example : (Your results could be different)**\n",
    "  - **True Label = 0**: Out of instances truly labeled as `0` (negative class), `28,132` were correctly predicted as `0`, and `1` was incorrectly predicted as `1`.\n",
    "  - **True Label = 1**: Out of instances truly labeled as `1` (positive class), `7` were incorrectly predicted as `0`, and `13` were correctly predicted as `1`.\n",
    "  - **True Label = DROPPED**: There are no instances with this label, hence all values are `0`. (No instances were actually labeled as \"DROPPED\", indicating that this label was not present or was excluded.)\n",
    "This confusion matrix shows that the model has a high number of true positives and true negatives, indicating good predictive performance, especially in distinguishing the negative class.\n"
   ]
  },
  {
   "cell_type": "markdown",
   "id": "2266afe6-be3f-4565-afd9-cb839682df2c",
   "metadata": {},
   "source": [
    "For models with labels you can retrieve the evaluation metrics for each slice of the model:"
   ]
  },
  {
   "cell_type": "code",
   "execution_count": 27,
   "id": "045a6f0d-ab29-4825-a29e-335f5a1727e1",
   "metadata": {
    "tags": []
   },
   "outputs": [],
   "source": [
    "# list_model_evaluation_slices : Retrieve evaluation metrics for different slices of the model. \n",
    "# Slices can be used to evaluate model performance on different subsets of the data, such as different demographic groups.\n",
    "\n",
    "slices = model_client.list_model_evaluation_slices(parent = eval_id)"
   ]
  },
  {
   "cell_type": "code",
   "execution_count": 28,
   "id": "4b7b5c5a-d43c-4c77-8806-fa92f6438e19",
   "metadata": {
    "tags": []
   },
   "outputs": [
    {
     "name": "stdout",
     "output_type": "stream",
     "text": [
      "Label =  1 has auPrc =  0.7986504\n",
      "Label =  0 has auPrc =  0.99989307\n"
     ]
    }
   ],
   "source": [
    "# Iterate through each slice and print its metrics\n",
    "\n",
    "for slice in slices:\n",
    "    print('Label = ', slice.slice_.value, 'has auPrc = ', slice.metrics['auPrc'])"
   ]
  },
  {
   "cell_type": "markdown",
   "id": "cd293936-5716-4234-89d2-7bdf9a71b1bb",
   "metadata": {},
   "source": [
    "##### - **Interpretation of the Results**: \n",
    "**Example : (Your results could be different)**\n",
    "  - **Label = 1 (Positive Class)**: The AUC-PR for the positive class is `0.7986504`, indicating good but not perfect performance in predicting the positive class.\n",
    "  - **Label = 0 (Negative Class)**: The AUC-PR for the negative class is `0.99989307`, indicating excellent performance in predicting the negative class.\n"
   ]
  },
  {
   "cell_type": "markdown",
   "id": "e4aad16e-eb65-4667-9813-a3ae762b3fe4",
   "metadata": {},
   "source": [
    "#### In addition to using the API, Vertex AI's Google Cloud Console offers rich visualizations of these metrics, making it easier to understand and interpret the results.\n"
   ]
  },
  {
   "cell_type": "markdown",
   "id": "3ef3a49d",
   "metadata": {},
   "source": [
    "## Endpoint and Deployment\n",
    "This section creates an endpoint in Vertex AI where the trained model will be deployed.\n",
    "An endpoint allows you to serve predictions from your trained model.\n"
   ]
  },
  {
   "cell_type": "code",
   "execution_count": 29,
   "id": "f2e1d5e5",
   "metadata": {
    "tags": []
   },
   "outputs": [
    {
     "name": "stdout",
     "output_type": "stream",
     "text": [
      "Creating Endpoint\n",
      "Create Endpoint backing LRO: projects/292219499736/locations/us-central1/endpoints/1225601422226096128/operations/4101103914051436544\n",
      "Endpoint created. Resource name: projects/292219499736/locations/us-central1/endpoints/1225601422226096128\n",
      "To use this Endpoint in another session:\n",
      "endpoint = aiplatform.Endpoint('projects/292219499736/locations/us-central1/endpoints/1225601422226096128')\n"
     ]
    }
   ],
   "source": [
    "# max 10 min\n",
    "# This step initializes an endpoint where the trained model will be deployed. \n",
    "# The endpoint is a managed service that allows you to serve real-time predictions.\n",
    "#  Labels are used for organizing and managing resources. Here, the notebook identifier is used as a label for easy tracking.\n",
    "\n",
    "endpoint = aiplatform.Endpoint.create(\n",
    "    display_name = f'{NOTEBOOK}_{BQ_TABLE}_{TIMESTAMP}',\n",
    "    labels = {'notebook':f'{NOTEBOOK}'}\n",
    ")"
   ]
  },
  {
   "cell_type": "code",
   "execution_count": 30,
   "id": "7300dff3",
   "metadata": {
    "tags": []
   },
   "outputs": [
    {
     "name": "stdout",
     "output_type": "stream",
     "text": [
      "Deploying Model projects/292219499736/locations/us-central1/models/7740686104356978688 to Endpoint : projects/292219499736/locations/us-central1/endpoints/1225601422226096128\n",
      "Deploy Endpoint model backing LRO: projects/292219499736/locations/us-central1/endpoints/1225601422226096128/operations/7785048409240502272\n",
      "Endpoint model deployed. Resource name: projects/292219499736/locations/us-central1/endpoints/1225601422226096128\n"
     ]
    }
   ],
   "source": [
    "# takes 45 min\n",
    "# Deploy the trained model to the created endpoint. This allows the model to serve predictions.\n",
    "# Deploy method: This command deploys the trained model to the previously created endpoint. \n",
    "# Traffic Percentage :  Specifies the amount of traffic (requests) that should be directed to this model. Here, it's set to 100%, meaning all requests will be handled by this model.\n",
    "# Machine Type : Specifies the type of machine to be used for serving predictions. This is defined by `DEPLOY_COMPUTE`.\n",
    "# Replica Count : Determines the number of model instances to be deployed for serving predictions. This ensures high availability and scalability.\n",
    "\n",
    "endpoint.deploy(\n",
    "    model = model,\n",
    "    deployed_model_display_name = f'{NOTEBOOK}_{BQ_TABLE}_{TIMESTAMP}',\n",
    "    traffic_percentage = 100,\n",
    "    machine_type = DEPLOY_COMPUTE,\n",
    "    min_replica_count = 1,\n",
    "    max_replica_count = 1\n",
    ")"
   ]
  },
  {
   "cell_type": "markdown",
   "id": "a15d96ee",
   "metadata": {},
   "source": [
    "---\n",
    "## Prediction"
   ]
  },
  {
   "cell_type": "markdown",
   "id": "13e324b8",
   "metadata": {},
   "source": [
    "### Prepare a record for prediction: instance and parameters lists"
   ]
  },
  {
   "cell_type": "code",
   "execution_count": 31,
   "id": "7148bd5b",
   "metadata": {
    "tags": []
   },
   "outputs": [],
   "source": [
    "# Prepare a record for prediction: instance and parameters lists\n",
    "# Fetch a sample of test data to use for prediction\n",
    "# This command fetches a subset of the test data from BigQuery to be used for making predictions with the deployed model.\n",
    "\n",
    "pred = bigquery.query(query = f\"SELECT * FROM {BQ_PROJECT}.{BQ_DATASET}.{BQ_TABLE}_prepped WHERE splits='TEST' LIMIT 10\").to_dataframe()"
   ]
  },
  {
   "cell_type": "code",
   "execution_count": 32,
   "id": "9055ac97",
   "metadata": {
    "tags": []
   },
   "outputs": [
    {
     "data": {
      "text/html": [
       "<div>\n",
       "<style scoped>\n",
       "    .dataframe tbody tr th:only-of-type {\n",
       "        vertical-align: middle;\n",
       "    }\n",
       "\n",
       "    .dataframe tbody tr th {\n",
       "        vertical-align: top;\n",
       "    }\n",
       "\n",
       "    .dataframe thead th {\n",
       "        text-align: right;\n",
       "    }\n",
       "</style>\n",
       "<table border=\"1\" class=\"dataframe\">\n",
       "  <thead>\n",
       "    <tr style=\"text-align: right;\">\n",
       "      <th></th>\n",
       "      <th>Time</th>\n",
       "      <th>V1</th>\n",
       "      <th>V2</th>\n",
       "      <th>V3</th>\n",
       "      <th>V4</th>\n",
       "      <th>V5</th>\n",
       "      <th>V6</th>\n",
       "      <th>V7</th>\n",
       "      <th>V8</th>\n",
       "      <th>V9</th>\n",
       "      <th>...</th>\n",
       "      <th>V25</th>\n",
       "      <th>V26</th>\n",
       "      <th>V27</th>\n",
       "      <th>V28</th>\n",
       "      <th>Amount</th>\n",
       "      <th>Class</th>\n",
       "      <th>Feedback</th>\n",
       "      <th>transaction_id</th>\n",
       "      <th>splits</th>\n",
       "      <th>service_account_email</th>\n",
       "    </tr>\n",
       "  </thead>\n",
       "  <tbody>\n",
       "    <tr>\n",
       "      <th>0</th>\n",
       "      <td>66341.0</td>\n",
       "      <td>-1.975549</td>\n",
       "      <td>-1.606799</td>\n",
       "      <td>0.081444</td>\n",
       "      <td>-2.159326</td>\n",
       "      <td>0.589567</td>\n",
       "      <td>0.334022</td>\n",
       "      <td>0.091121</td>\n",
       "      <td>0.745302</td>\n",
       "      <td>-1.320319</td>\n",
       "      <td>...</td>\n",
       "      <td>-0.817125</td>\n",
       "      <td>1.139974</td>\n",
       "      <td>-0.061121</td>\n",
       "      <td>-0.101225</td>\n",
       "      <td>200.5</td>\n",
       "      <td>0</td>\n",
       "      <td>very satisfied.</td>\n",
       "      <td>6a487bc0-864e-476a-89a3-711a95c3bf40</td>\n",
       "      <td>TEST</td>\n",
       "      <td>292219499736-compute@developer.gserviceaccount...</td>\n",
       "    </tr>\n",
       "    <tr>\n",
       "      <th>1</th>\n",
       "      <td>138794.0</td>\n",
       "      <td>1.556636</td>\n",
       "      <td>-0.858618</td>\n",
       "      <td>-1.541472</td>\n",
       "      <td>1.235769</td>\n",
       "      <td>0.142803</td>\n",
       "      <td>0.172018</td>\n",
       "      <td>0.186438</td>\n",
       "      <td>-0.093988</td>\n",
       "      <td>0.434570</td>\n",
       "      <td>...</td>\n",
       "      <td>0.427739</td>\n",
       "      <td>-0.227500</td>\n",
       "      <td>-0.026433</td>\n",
       "      <td>-0.027460</td>\n",
       "      <td>250.0</td>\n",
       "      <td>0</td>\n",
       "      <td>very satisfied.</td>\n",
       "      <td>381e5380-80f7-4b4c-b9f7-de89eda68b89</td>\n",
       "      <td>TEST</td>\n",
       "      <td>292219499736-compute@developer.gserviceaccount...</td>\n",
       "    </tr>\n",
       "    <tr>\n",
       "      <th>2</th>\n",
       "      <td>100922.0</td>\n",
       "      <td>1.923291</td>\n",
       "      <td>-0.511650</td>\n",
       "      <td>0.217122</td>\n",
       "      <td>0.583403</td>\n",
       "      <td>-1.043504</td>\n",
       "      <td>-0.428347</td>\n",
       "      <td>-0.946888</td>\n",
       "      <td>-0.055398</td>\n",
       "      <td>2.688932</td>\n",
       "      <td>...</td>\n",
       "      <td>-0.628523</td>\n",
       "      <td>0.441857</td>\n",
       "      <td>-0.045307</td>\n",
       "      <td>-0.039834</td>\n",
       "      <td>39.0</td>\n",
       "      <td>0</td>\n",
       "      <td>very satisfied.</td>\n",
       "      <td>90c3c8af-c5bb-4f4b-9735-a30555ba12c6</td>\n",
       "      <td>TEST</td>\n",
       "      <td>292219499736-compute@developer.gserviceaccount...</td>\n",
       "    </tr>\n",
       "    <tr>\n",
       "      <th>3</th>\n",
       "      <td>151295.0</td>\n",
       "      <td>-2.663683</td>\n",
       "      <td>2.410267</td>\n",
       "      <td>-0.956647</td>\n",
       "      <td>-1.124388</td>\n",
       "      <td>-0.477937</td>\n",
       "      <td>-0.984630</td>\n",
       "      <td>0.318403</td>\n",
       "      <td>0.709386</td>\n",
       "      <td>1.257919</td>\n",
       "      <td>...</td>\n",
       "      <td>0.370005</td>\n",
       "      <td>0.166635</td>\n",
       "      <td>0.867921</td>\n",
       "      <td>0.614288</td>\n",
       "      <td>20.0</td>\n",
       "      <td>0</td>\n",
       "      <td>very satisfied.</td>\n",
       "      <td>3f04990a-c791-43b6-9af6-78d786fe3ef6</td>\n",
       "      <td>TEST</td>\n",
       "      <td>292219499736-compute@developer.gserviceaccount...</td>\n",
       "    </tr>\n",
       "  </tbody>\n",
       "</table>\n",
       "<p>4 rows × 35 columns</p>\n",
       "</div>"
      ],
      "text/plain": [
       "       Time        V1        V2        V3        V4        V5        V6  \\\n",
       "0   66341.0 -1.975549 -1.606799  0.081444 -2.159326  0.589567  0.334022   \n",
       "1  138794.0  1.556636 -0.858618 -1.541472  1.235769  0.142803  0.172018   \n",
       "2  100922.0  1.923291 -0.511650  0.217122  0.583403 -1.043504 -0.428347   \n",
       "3  151295.0 -2.663683  2.410267 -0.956647 -1.124388 -0.477937 -0.984630   \n",
       "\n",
       "         V7        V8        V9  ...       V25       V26       V27       V28  \\\n",
       "0  0.091121  0.745302 -1.320319  ... -0.817125  1.139974 -0.061121 -0.101225   \n",
       "1  0.186438 -0.093988  0.434570  ...  0.427739 -0.227500 -0.026433 -0.027460   \n",
       "2 -0.946888 -0.055398  2.688932  ... -0.628523  0.441857 -0.045307 -0.039834   \n",
       "3  0.318403  0.709386  1.257919  ...  0.370005  0.166635  0.867921  0.614288   \n",
       "\n",
       "   Amount  Class          Feedback                        transaction_id  \\\n",
       "0   200.5      0   very satisfied.  6a487bc0-864e-476a-89a3-711a95c3bf40   \n",
       "1   250.0      0   very satisfied.  381e5380-80f7-4b4c-b9f7-de89eda68b89   \n",
       "2    39.0      0   very satisfied.  90c3c8af-c5bb-4f4b-9735-a30555ba12c6   \n",
       "3    20.0      0   very satisfied.  3f04990a-c791-43b6-9af6-78d786fe3ef6   \n",
       "\n",
       "   splits                              service_account_email  \n",
       "0    TEST  292219499736-compute@developer.gserviceaccount...  \n",
       "1    TEST  292219499736-compute@developer.gserviceaccount...  \n",
       "2    TEST  292219499736-compute@developer.gserviceaccount...  \n",
       "3    TEST  292219499736-compute@developer.gserviceaccount...  \n",
       "\n",
       "[4 rows x 35 columns]"
      ]
     },
     "execution_count": 32,
     "metadata": {},
     "output_type": "execute_result"
    }
   ],
   "source": [
    "# Display the first few rows of the prediction data\n",
    "# The `head()` function is used to display the first few rows of the fetched data to verify its structure and contents.\n",
    "\n",
    "pred.head(4)"
   ]
  },
  {
   "cell_type": "code",
   "execution_count": 33,
   "id": "f2f80ac2",
   "metadata": {
    "tags": []
   },
   "outputs": [
    {
     "data": {
      "text/plain": [
       "{'Time': 66341.0,\n",
       " 'V1': -1.9755488634109497,\n",
       " 'V2': -1.6067992448806763,\n",
       " 'V3': 0.08144358545541763,\n",
       " 'V4': -2.1593263149261475,\n",
       " 'V5': 0.5895673036575317,\n",
       " 'V6': 0.3340217173099518,\n",
       " 'V7': 0.0911206379532814,\n",
       " 'V8': 0.7453022599220276,\n",
       " 'V9': -1.320319414138794,\n",
       " 'V10': -0.8474969267845154,\n",
       " 'V11': -0.21961548924446106,\n",
       " 'V12': 0.6278647780418396,\n",
       " 'V13': 0.5759356021881104,\n",
       " 'V14': 0.2245824933052063,\n",
       " 'V15': -0.3175048232078552,\n",
       " 'V16': -2.3535516262054443,\n",
       " 'V17': 1.0250015258789062,\n",
       " 'V18': -1.37712824344635,\n",
       " 'V19': -3.5953450202941895,\n",
       " 'V20': -0.11362418532371521,\n",
       " 'V21': 0.07117960602045059,\n",
       " 'V22': -0.009378469549119473,\n",
       " 'V23': 0.5989304780960083,\n",
       " 'V24': -0.9059162735939026,\n",
       " 'V25': -0.8171247243881226,\n",
       " 'V26': 1.139973521232605,\n",
       " 'V27': -0.06112143024802208,\n",
       " 'V28': -0.10122473537921906,\n",
       " 'Amount': 200.5}"
      ]
     },
     "execution_count": 33,
     "metadata": {},
     "output_type": "execute_result"
    }
   ],
   "source": [
    "# Prepare a record for prediction: instance and parameters lists\n",
    "\n",
    "# Select the necessary columns for prediction and convert the data to the required format.\n",
    "# This step filters out columns that should not be included in the prediction request.\n",
    "# This step selects the necessary columns from the test dataset, excluding omitted variables, the target variable, and the split column.\n",
    "# The selected data is converted to a dictionary format, which is required for the prediction request.\n",
    "\n",
    "newob = pred[pred.columns[~pred.columns.isin(VAR_OMIT.split()+[VAR_TARGET, 'splits'])]].to_dict(orient='records')[0]\n",
    "\n",
    "# Display the prepared observation for prediction\n",
    "newob"
   ]
  },
  {
   "cell_type": "markdown",
   "id": "64909cc0",
   "metadata": {},
   "source": [
    "Need to understand the format of variables that the predictions expect.  AutoML may convert the type of some variables. The following cells retrieve the model from the endpoint and its schemata:"
   ]
  },
  {
   "cell_type": "code",
   "execution_count": 34,
   "id": "44a386d9",
   "metadata": {
    "tags": []
   },
   "outputs": [],
   "source": [
    "# Convert the prepared observation to JSON format required by the prediction endpoint.\n",
    "#  The prepared observation is converted to JSON format using `json_format.ParseDict()`. This format is required by the Vertex AI prediction endpoint.\n",
    "# An empty parameters dictionary is created, which can be used if the prediction request requires additional parameters.\n",
    "\n",
    "instances = [json_format.ParseDict(newob, Value())]\n",
    "parameters = json_format.ParseDict({}, Value())"
   ]
  },
  {
   "cell_type": "markdown",
   "id": "6fa715ce",
   "metadata": {},
   "source": [
    "### Get Predictions: Python Client"
   ]
  },
  {
   "cell_type": "code",
   "execution_count": 35,
   "id": "b6f11350",
   "metadata": {
    "tags": []
   },
   "outputs": [],
   "source": [
    "# Get Predictions: Python Client\n",
    "# Make a prediction request to the deployed model using the prepared instances.\n",
    "# The `endpoint.predict()` method is called with the prepared instances and parameters. This sends the data to the deployed model and retrieves the prediction results.\n",
    "\n",
    "prediction = endpoint.predict(instances=instances, parameters=parameters)"
   ]
  },
  {
   "cell_type": "code",
   "execution_count": 36,
   "id": "063eba38",
   "metadata": {
    "tags": []
   },
   "outputs": [
    {
     "data": {
      "text/plain": [
       "Prediction(predictions=[{'classes': ['0', '1'], 'scores': [0.9999939799308777, 6.062371539883316e-06]}], deployed_model_id='5284201206044950528', metadata=None, model_version_id='1', model_resource_name='projects/292219499736/locations/us-central1/models/7740686104356978688', explanations=None)"
      ]
     },
     "execution_count": 36,
     "metadata": {},
     "output_type": "execute_result"
    }
   ],
   "source": [
    "# Display the prediction results\n",
    "# The prediction results are displayed, showing the predicted classes and their corresponding scores.\n",
    "prediction"
   ]
  },
  {
   "cell_type": "code",
   "execution_count": 37,
   "id": "30a5f2c7",
   "metadata": {
    "tags": []
   },
   "outputs": [
    {
     "data": {
      "text/plain": [
       "'0'"
      ]
     },
     "execution_count": 37,
     "metadata": {},
     "output_type": "execute_result"
    }
   ],
   "source": [
    "# Shows the predicted class\n",
    "\n",
    "prediction.predictions[0]['classes'][np.argmax(prediction.predictions[0]['scores'])]"
   ]
  },
  {
   "cell_type": "markdown",
   "id": "37ff1640",
   "metadata": {},
   "source": [
    "### Get Predictions: REST"
   ]
  },
  {
   "cell_type": "code",
   "execution_count": 40,
   "id": "7c268d6d",
   "metadata": {
    "tags": []
   },
   "outputs": [],
   "source": [
    "# Write the prediction request to a JSON file.\n",
    "# This step creates a JSON file that contains the input data for the prediction request.\n",
    "# The prediction input data is written to a JSON file. This file will be used to make a prediction request via the REST API.\n",
    "# The file is saved in a specified directory (`DIR`) with the name `request.json`.\n",
    "\n",
    "with open(f'{DIR}/request.json','w') as file:\n",
    "    file.write(json.dumps({\"instances\": [newob]}))"
   ]
  },
  {
   "cell_type": "code",
   "execution_count": 41,
   "id": "2edca20a",
   "metadata": {
    "tags": []
   },
   "outputs": [
    {
     "name": "stdout",
     "output_type": "stream",
     "text": [
      "{\n",
      "  \"predictions\": [\n",
      "    {\n",
      "      \"scores\": [\n",
      "        0.99999397993087769,\n",
      "        6.0623715398833164e-06\n",
      "      ],\n",
      "      \"classes\": [\n",
      "        \"0\",\n",
      "        \"1\"\n",
      "      ]\n",
      "    }\n",
      "  ],\n",
      "  \"deployedModelId\": \"5284201206044950528\",\n",
      "  \"model\": \"projects/292219499736/locations/us-central1/models/7740686104356978688\",\n",
      "  \"modelDisplayName\": \"02_ulb_fraud_detection_20240527103158\",\n",
      "  \"modelVersionId\": \"1\"\n",
      "}\n"
     ]
    }
   ],
   "source": [
    "# Make a prediction request using curl and REST API.\n",
    "#  This command sends the JSON file with the input data to the Vertex AI prediction endpoint.\n",
    "# curl Command: This command uses `curl` to make an HTTP POST request to the Vertex AI prediction endpoint.\n",
    "# Authorization Header : The `Authorization` header includes a bearer token obtained using `gcloud auth`. This token authenticates the request.\n",
    "# Content-Type Header :  Specifies that the content type of the request is JSON.\n",
    "# Data: The JSON file containing the prediction input data is sent in the request body.\n",
    "# Endpoint URL : The URL for the Vertex AI prediction endpoint is constructed using the region and endpoint resource name.\n",
    "\n",
    "!curl -X POST \\\n",
    "-H \"Authorization: Bearer \"$(gcloud auth application-default print-access-token) \\\n",
    "-H \"Content-Type: application/json; charset=utf-8\" \\\n",
    "-d @{DIR}/request.json \\\n",
    "https://{REGION}-aiplatform.googleapis.com/v1/{endpoint.resource_name}:predict"
   ]
  },
  {
   "cell_type": "markdown",
   "id": "17d3a22b",
   "metadata": {},
   "source": [
    "### Get Predictions: gcloud (CLI)"
   ]
  },
  {
   "cell_type": "code",
   "execution_count": 42,
   "id": "2621a2e3",
   "metadata": {
    "tags": []
   },
   "outputs": [
    {
     "name": "stdout",
     "output_type": "stream",
     "text": [
      "Using endpoint [https://us-central1-prediction-aiplatform.googleapis.com/]\n",
      "[{'classes': ['0', '1'], 'scores': [0.9999939799308777, 6.062371539883316e-06]}]\n"
     ]
    }
   ],
   "source": [
    "# Make a prediction request using the gcloud CLI.\n",
    "#  This command uses the gcloud CLI to send the JSON file with the input data to the Vertex AI prediction endpoint.\n",
    "# The `gcloud beta ai endpoints predict` command is used to make a prediction request.\n",
    "# Endpoint ID : The endpoint ID is extracted from the endpoint resource name.\n",
    "# Region : Specifies the region where the endpoint is deployed.\n",
    "# JSON Request : The path to the JSON file containing the prediction input data is provided.\n",
    "\n",
    "!gcloud beta ai endpoints predict {endpoint.name.rsplit('/',1)[-1]} --region={REGION} --json-request={DIR}/request.json"
   ]
  },
  {
   "cell_type": "markdown",
   "id": "aa2dbae2",
   "metadata": {},
   "source": [
    "\n",
    "## Explanations\n",
    "\n",
    "Vertex AI can provide explanations for the predictions made by the model, helping to understand the model's behavior.\n",
    " \n",
    "Interpretation Guide ; The linked guide provides detailed information on interpreting the explanations provided by Vertex AI.\n",
    "https://cloud.google.com/vertex-ai/docs/predictions/interpreting-results-automl#tabular"
   ]
  },
  {
   "cell_type": "code",
   "execution_count": 43,
   "id": "b44aedf4",
   "metadata": {
    "tags": []
   },
   "outputs": [],
   "source": [
    "# Make an explanation request to the endpoint.\n",
    "#  Vertex AI can provide explanations for the predictions, which helps understand the model's decision-making process.\n",
    "# Explain Method : The `endpoint.explain()` method is called with the prediction instances and parameters to retrieve explanations.\n",
    "# \n",
    "explanation = endpoint.explain(instances=instances, parameters=parameters)"
   ]
  },
  {
   "cell_type": "code",
   "execution_count": 44,
   "id": "d64bcf23",
   "metadata": {
    "tags": []
   },
   "outputs": [
    {
     "data": {
      "text/plain": [
       "[{'classes': ['0', '1'],\n",
       "  'scores': [0.9999939799308777, 6.062371539883316e-06]}]"
      ]
     },
     "execution_count": 44,
     "metadata": {},
     "output_type": "execute_result"
    }
   ],
   "source": [
    "# Display the explanation results\n",
    "\n",
    "explanation.predictions"
   ]
  },
  {
   "cell_type": "code",
   "execution_count": 45,
   "id": "5665a357",
   "metadata": {
    "tags": []
   },
   "outputs": [
    {
     "name": "stdout",
     "output_type": "stream",
     "text": [
      "attribution:\n",
      "baseline output 0.9999939799308777\n",
      "instance output 0.9999939799308777\n",
      "output_index [0]\n",
      "output display value 0\n",
      "approximation error 0.008332615072443338\n"
     ]
    }
   ],
   "source": [
    "# Print the detailed explanation attributes.\n",
    "# The explanation includes various attributes that help understand the model's decision-making process.\n",
    "# This code prints detailed attributes of the explanation provided by Vertex AI.\n",
    "\n",
    "print(\"attribution:\")\n",
    "#  The predicted output if no input features were used (baseline).\n",
    "print(\"baseline output\",explanation.explanations[0].attributions[0].baseline_output_value)\n",
    "#  The predicted output for the given input instance.\n",
    "print(\"instance output\",explanation.explanations[0].attributions[0].instance_output_value)\n",
    "# The index of the output in the prediction.\n",
    "print(\"output_index\",explanation.explanations[0].attributions[0].output_index)\n",
    "# A human-readable name for the output.\n",
    "print(\"output display value\",explanation.explanations[0].attributions[0].output_display_name)\n",
    "# The error in the approximation of the explanation.\n",
    "print(\"approximation error\",explanation.explanations[0].attributions[0].approximation_error)"
   ]
  },
  {
   "cell_type": "code",
   "execution_count": 46,
   "id": "f4658234",
   "metadata": {
    "tags": []
   },
   "outputs": [
    {
     "data": {
      "image/png": "[encoded data removed]",
      "text/plain": [
       "<Figure size 900x900 with 1 Axes>"
      ]
     },
     "metadata": {},
     "output_type": "display_data"
    }
   ],
   "source": [
    "# Visualize the Feature Attributions\n",
    "# Import necessary libraries for visualization.\n",
    "import matplotlib.pyplot as plt\n",
    "# Initialize lists to store features and their scores.\n",
    "features = []\n",
    "scores = []\n",
    "# Extract feature attributions from the explanation.\n",
    "for k in explanation.explanations[0].attributions[0].feature_attributions:\n",
    "    features.append(k)\n",
    "    scores.append(explanation.explanations[0].attributions[0].feature_attributions[k])\n",
    "features = [x for _, x in sorted(zip(scores, features))] # Sort the features by their scores for better visualization.\n",
    "scores = sorted(scores)\n",
    "# Create a bar plot to visualize the feature attributions.\n",
    "fig, ax = plt.subplots()\n",
    "fig.set_size_inches(9, 9)\n",
    "ax.barh(features, scores)\n",
    "fig.show()"
   ]
  },
  {
   "cell_type": "markdown",
   "id": "51965d29-a812-411e-9d8b-0738612ac714",
   "metadata": {},
   "source": [
    "####  **Interpretation of the Bar Chart**\n",
    "The Bar Chart above shows the feature attributions for a particular prediction made by the model. Here's a detailed interpretation of the chart:\n",
    "- Horizontal Axis (Attribution Score) : The horizontal axis represents the attribution scores, which indicate the contribution of each feature to the model's prediction.\n",
    "- Positive scores suggest that the feature contributes positively to the prediction (i.e., increasing the likelihood of the predicted class).\n",
    "- Negative scores suggest that the feature contributes negatively to the prediction (i.e., decreasing the likelihood of the predicted class).\n",
    "- The vertical axis lists the features from the dataset.\n",
    "- Each bar corresponds to a feature and its length represents the magnitude of its attribution score.\n",
    "\n",
    "**Example : (Your results could be different)**\n",
    "\n",
    "**Top Contributing Features:**\n",
    "- V17: The feature **V17** has the highest positive attribution score, indicating it is the most influential feature in driving the model's prediction towards the predicted class.\n",
    "- V4 : Similarly, **V4** is also a significant positive contributor.\n",
    "\n",
    "**Features with Lower Impact :**\n",
    "-  Features like **V16** and **V19** have negative attribution scores, indicating they negatively impact the prediction. This means that higher values of these features reduce the likelihood of the predicted class.\n",
    "\n",
    "**Neutral or Low-Impact Features :**\n",
    "- Features closer to zero, such as **V22** and **V20**, have minimal impact on the prediction. They neither strongly support nor oppose the predicted outcome.\n",
    "\n",
    "\n"
   ]
  },
  {
   "cell_type": "markdown",
   "id": "1c214f08",
   "metadata": {},
   "source": [
    "## Batch Predictions: BigQuery Source to BigQuery Destination, with Explanations\n",
    "This section creates a batch prediction job that reads data from a BigQuery table, makes predictions using the deployed model, and writes the results back to BigQuery.\n"
   ]
  },
  {
   "cell_type": "code",
   "execution_count": 47,
   "id": "71448467",
   "metadata": {
    "scrolled": true,
    "tags": []
   },
   "outputs": [
    {
     "name": "stdout",
     "output_type": "stream",
     "text": [
      "Creating BatchPredictionJob\n",
      "BatchPredictionJob created. Resource name: projects/292219499736/locations/us-central1/batchPredictionJobs/7950933927546322944\n",
      "To use this BatchPredictionJob in another session:\n",
      "bpj = aiplatform.BatchPredictionJob('projects/292219499736/locations/us-central1/batchPredictionJobs/7950933927546322944')\n",
      "View Batch Prediction Job:\n",
      "https://console.cloud.google.com/ai/platform/locations/us-central1/batch-predictions/7950933927546322944?project=292219499736\n",
      "BatchPredictionJob projects/292219499736/locations/us-central1/batchPredictionJobs/7950933927546322944 current state:\n",
      "JobState.JOB_STATE_PENDING\n",
      "BatchPredictionJob projects/292219499736/locations/us-central1/batchPredictionJobs/7950933927546322944 current state:\n",
      "JobState.JOB_STATE_PENDING\n",
      "BatchPredictionJob projects/292219499736/locations/us-central1/batchPredictionJobs/7950933927546322944 current state:\n",
      "JobState.JOB_STATE_RUNNING\n",
      "BatchPredictionJob projects/292219499736/locations/us-central1/batchPredictionJobs/7950933927546322944 current state:\n",
      "JobState.JOB_STATE_RUNNING\n",
      "BatchPredictionJob projects/292219499736/locations/us-central1/batchPredictionJobs/7950933927546322944 current state:\n",
      "JobState.JOB_STATE_RUNNING\n",
      "BatchPredictionJob projects/292219499736/locations/us-central1/batchPredictionJobs/7950933927546322944 current state:\n",
      "JobState.JOB_STATE_RUNNING\n",
      "BatchPredictionJob projects/292219499736/locations/us-central1/batchPredictionJobs/7950933927546322944 current state:\n",
      "JobState.JOB_STATE_RUNNING\n",
      "BatchPredictionJob projects/292219499736/locations/us-central1/batchPredictionJobs/7950933927546322944 current state:\n",
      "JobState.JOB_STATE_RUNNING\n",
      "BatchPredictionJob projects/292219499736/locations/us-central1/batchPredictionJobs/7950933927546322944 current state:\n",
      "JobState.JOB_STATE_RUNNING\n",
      "BatchPredictionJob projects/292219499736/locations/us-central1/batchPredictionJobs/7950933927546322944 current state:\n",
      "JobState.JOB_STATE_RUNNING\n",
      "BatchPredictionJob projects/292219499736/locations/us-central1/batchPredictionJobs/7950933927546322944 current state:\n",
      "JobState.JOB_STATE_RUNNING\n",
      "BatchPredictionJob projects/292219499736/locations/us-central1/batchPredictionJobs/7950933927546322944 current state:\n",
      "JobState.JOB_STATE_RUNNING\n",
      "BatchPredictionJob projects/292219499736/locations/us-central1/batchPredictionJobs/7950933927546322944 current state:\n",
      "JobState.JOB_STATE_RUNNING\n",
      "BatchPredictionJob projects/292219499736/locations/us-central1/batchPredictionJobs/7950933927546322944 current state:\n",
      "JobState.JOB_STATE_RUNNING\n",
      "BatchPredictionJob projects/292219499736/locations/us-central1/batchPredictionJobs/7950933927546322944 current state:\n",
      "JobState.JOB_STATE_SUCCEEDED\n",
      "BatchPredictionJob run completed. Resource name: projects/292219499736/locations/us-central1/batchPredictionJobs/7950933927546322944\n"
     ]
    }
   ],
   "source": [
    "# this job would take +2 hours,  depending on your infrastcuture\n",
    "# Create a batch prediction job to run predictions on a large dataset stored in BigQuery and save the results back to BigQuery.\n",
    "# job_display_name: A descriptive name for the batch prediction job, useful for identifying it in the Vertex AI console.\n",
    "# model_name : The name of the deployed model to be used for making predictions.\n",
    "# instances_format : Specifies the format of the input data. Here, it is set to \"bigquery\" because the input data is in a BigQuery table.\n",
    "# predictions_format : Specifies the format of the output predictions. Here, it is set to \"bigquery\" to store the predictions back in BigQuery.\n",
    "# bigquery_source : The path to the BigQuery table that contains the input data.\n",
    "# bigquery_destination_prefix : The project ID where the prediction results will be stored.\n",
    "# generate_explanation : If set to True, the job will generate explanations for the predictions, providing insights into the model's decision-making process.\n",
    "# labels :  Metadata labels for organizing and managing the job.\n",
    "\n",
    "batch = aiplatform.BatchPredictionJob.create(\n",
    "    job_display_name = f'{NOTEBOOK}_{BQ_TABLE}_{TIMESTAMP}',\n",
    "    model_name = model.name,\n",
    "    instances_format = \"bigquery\",\n",
    "    predictions_format = \"bigquery\",\n",
    "    bigquery_source = f'bq://{BQ_PROJECT}.{BQ_DATASET}.{BQ_TABLE}_prepped',\n",
    "    bigquery_destination_prefix = f\"{PROJECT_ID}\",\n",
    "    generate_explanation = True,\n",
    "    labels = {'notebook':f'{NOTEBOOK}'}\n",
    ")"
   ]
  },
  {
   "cell_type": "code",
   "execution_count": null,
   "id": "83d5a071-b171-4ebf-b3ee-2cb547b9ea95",
   "metadata": {},
   "outputs": [],
   "source": []
  }
 ],
 "metadata": {
  "environment": {
   "kernel": "conda-root-py",
   "name": "workbench-notebooks.m111",
   "type": "gcloud",
   "uri": "gcr.io/deeplearning-platform-release/workbench-notebooks:m111"
  },
  "kernelspec": {
   "display_name": "Python 3",
   "language": "python",
   "name": "conda-root-py"
  },
  "language_info": {
   "codemirror_mode": {
    "name": "ipython",
    "version": 3
   },
   "file_extension": ".py",
   "mimetype": "text/x-python",
   "name": "python",
   "nbconvert_exporter": "python",
   "pygments_lexer": "ipython3",
   "version": "3.10.12"
  }
 },
 "nbformat": 4,
 "nbformat_minor": 5
}
